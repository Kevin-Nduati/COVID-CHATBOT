{
 "cells": [
  {
   "cell_type": "markdown",
   "id": "657a254b",
   "metadata": {},
   "source": [
    "This project aims to educate people on COVID-19. The chatbot aims to save labor by using artificial intelligence to answer questions COVID-19 related."
   ]
  },
  {
   "cell_type": "code",
   "execution_count": 1,
   "id": "d54ed5ae",
   "metadata": {},
   "outputs": [
    {
     "name": "stderr",
     "output_type": "stream",
     "text": [
      "[nltk_data] Downloading package punkt to /home/kevin/nltk_data...\n",
      "[nltk_data]   Package punkt is already up-to-date!\n"
     ]
    }
   ],
   "source": [
    "import numpy as np\n",
    "import tensorflow as tf\n",
    "import pandas as pd \n",
    "\n",
    "import nltk\n",
    "nltk.download('punkt')\n",
    "\n",
    "\n",
    "import random\n",
    "import json"
   ]
  },
  {
   "cell_type": "code",
   "execution_count": 2,
   "id": "cd54d6ba",
   "metadata": {},
   "outputs": [
    {
     "name": "stderr",
     "output_type": "stream",
     "text": [
      "[nltk_data] Downloading package punkt to /home/kevin/nltk_data...\n",
      "[nltk_data]   Package punkt is already up-to-date!\n",
      "[nltk_data] Downloading package wordnet to /home/kevin/nltk_data...\n",
      "[nltk_data]   Package wordnet is already up-to-date!\n"
     ]
    },
    {
     "data": {
      "text/plain": [
       "True"
      ]
     },
     "execution_count": 2,
     "metadata": {},
     "output_type": "execute_result"
    }
   ],
   "source": [
    "nltk.download('punkt')\n",
    "nltk.download('wordnet')\n"
   ]
  },
  {
   "cell_type": "markdown",
   "id": "1234ae0e",
   "metadata": {},
   "source": [
    "**Import and load the data file**\n",
    "\n",
    "The data file is in JSON format (covid.json) so we used the json package to parse the JSON file into Python."
   ]
  },
  {
   "cell_type": "code",
   "execution_count": 3,
   "id": "adda0df2",
   "metadata": {},
   "outputs": [],
   "source": [
    "with open('covid.json') as json_data:\n",
    "  intents=json.load(json_data)"
   ]
  },
  {
   "cell_type": "code",
   "execution_count": 4,
   "id": "9210823c",
   "metadata": {},
   "outputs": [
    {
     "data": {
      "text/plain": [
       "{'intents': [{'tag': 'greeting',\n",
       "   'patterns': ['Hi there',\n",
       "    'How are you',\n",
       "    'Is anyone there?',\n",
       "    'Hey',\n",
       "    'Hola',\n",
       "    'Hello',\n",
       "    'Good day'],\n",
       "   'responses': ['Hello, thanks for asking',\n",
       "    'Good to see you again',\n",
       "    'Hi there, how can I help?'],\n",
       "   'context': ['']},\n",
       "  {'tag': 'goodbye',\n",
       "   'patterns': ['Bye',\n",
       "    'See you later',\n",
       "    'Goodbye',\n",
       "    'Nice chatting to you, bye',\n",
       "    'Till next time'],\n",
       "   'responses': ['See you!', 'Have a nice day', 'Bye! Come back again soon.'],\n",
       "   'context': ['']},\n",
       "  {'tag': 'thanks',\n",
       "   'patterns': ['Thanks',\n",
       "    'Thank you',\n",
       "    \"That's helpful\",\n",
       "    'Awesome, thanks',\n",
       "    'Thanks for helping me'],\n",
       "   'responses': ['Happy to help!', 'Any time!', 'My pleasure'],\n",
       "   'context': ['']},\n",
       "  {'tag': 'noanswer',\n",
       "   'patterns': [],\n",
       "   'responses': [\"Sorry, can't understand you\",\n",
       "    'Please give me more info',\n",
       "    'Not sure I understand'],\n",
       "   'context': ['']},\n",
       "  {'tag': 'options',\n",
       "   'patterns': ['How you could help me?',\n",
       "    'What you can do?',\n",
       "    'What help you provide?',\n",
       "    'How you can be helpful?',\n",
       "    'What support is offered'],\n",
       "   'responses': ['I can answer all your questions on COVID-19 and guide you on the dos and donts during this pandemic'],\n",
       "   'context': ['']},\n",
       "  {'tag': 'severe_illness',\n",
       "   'patterns': ['Who is at risk of developing severe illness?',\n",
       "    'Does covid affect people differently'],\n",
       "   'responses': ['While we are still learning about how COVID-2019 affects people, older persons and persons with pre-existing medical conditions (such as high blood pressure, heart disease, lung disease, cancer or diabetes) appear to develop serious illness more often than others.'],\n",
       "   'context': ['']},\n",
       "  {'tag': 'air_transmission',\n",
       "   'patterns': ['Can the virus that causes COVID-19 be transmitted through the air?',\n",
       "    'Is COVID-19 airborne?'],\n",
       "   'responses': ['Studies to date suggest that the virus that causes COVID-19 is mainly transmitted through contact with respiratory droplets rather than through the air.'],\n",
       "   'context': ['']},\n",
       "  {'tag': 'SARS_similarities',\n",
       "   'patterns': ['Is COVID-19 the same as SARS?',\n",
       "    'Is there any similarity between SARS and COVID-19'],\n",
       "   'responses': ['No. The virus that causes COVID-19 and the one that caused the outbreak of Severe Acute Respiratory Syndrome (SARS) in 2003 are related to each other genetically, but the diseases they cause are quite different. SARS was more deadly but much less infectious than COVID-19. There have been no outbreaks of SARS anywhere in the world since 2003.'],\n",
       "   'context': ['']},\n",
       "  {'tag': 'COVID-19_definition',\n",
       "   'patterns': ['What is COVID-19?', 'Definition of COVID-19'],\n",
       "   'responses': ['COVID-19 is the infectious disease caused by the most recently discovered coronavirus. This new virus and disease were unknown before the outbreak began in Wuhan, China, in December 2019.'],\n",
       "   'context': ['']},\n",
       "  {'tag': 'COVID-19_mask_use',\n",
       "   'patterns': ['How to put on, use, take off and dispose of a mask?',\n",
       "    'Should i wear a mask'],\n",
       "   'responses': ['Remember, a mask should only be used by health workers, care takers, and individuals with respiratory symptoms, such as fever and cough.Before touching the mask, clean hands with an alcohol-based hand rub or soap and waterTake the mask and inspect it for tears or holes.Orient which side is the top side (where the metal strip is).Ensure the proper side of the mask faces outwards (the coloured side).Place the mask to your face. Pinch the metal strip or stiff edge of the mask so it moulds to the shape of your nose.Pull down the mask�s bottom so it covers your mouth and your chin.After use, take off the mask; remove the elastic loops from behind the ears while keeping the mask away from your face and clothes, to avoid touching potentially contaminated surfaces of the mask. Discard the mask in a closed bin immediately after use.Perform hand hygiene after touching or discarding the mask � Use alcohol-based hand rub or, if visibly soiled, wash your hands with soap and water.'],\n",
       "   'context': ['']},\n",
       "  {'tag': 'COVID-19_protection',\n",
       "   'patterns': ['What can I do to protect myself and prevent the spread of disease?',\n",
       "    'What protective measures should i have'],\n",
       "   'responses': ['Protection measures for everyoneStay aware of the latest information on the COVID-19 outbreak, available on the WHO website and through your national and local public health authority. Many countries around the world have seen cases of COVID-19 and several have seen outbreaks. Authorities in China and some other countries have succeeded in slowing or stopping their outbreaks. However, the situation is unpredictable so check regularly for the latest news.You can reduce your chances of being infected or spreading COVID-19 by taking some simple precautions:Regularly and thoroughly clean your hands with an alcohol-based hand rub or wash them with soap and water.Why? Washing your hands with soap and water or using alcohol-based hand rub kills viruses that may be on your hands.Maintain at least 1 metre (3 feet) distance between yourself and anyone who is coughing or sneezing.Why? When someone coughs or sneezes they spray small liquid droplets from their nose or mouth which may contain virus. If you are too close, you can breathe in the droplets, including the COVID-19 virus if the person coughing has the disease.Avoid touching eyes, nose and mouth.Why? Hands touch many surfaces and can pick up viruses. Once contaminated, hands can transfer the virus to your eyes, nose or mouth. From there, the virus can enter your body and can make you sick.Make sure you, and the people around you, follow good respiratory hygiene. This means covering your mouth and nose with your bent elbow or tissue when you cough or sneeze. Then dispose of the used tissue immediately.Why? Droplets spread virus. By following good respiratory hygiene you protect the people around you from viruses such as cold, flu and COVID-19.Stay home if you feel unwell. If you have a fever, cough and difficulty breathing, seek medical attention and call in advance. Follow the directions of your local health authority.Why? National and local authorities will have the most up to date information on the situation in your area. Calling in advance will allow your health care provider to quickly direct you to the right health facility. This will also protect you and help prevent spread of viruses and other infections.Keep up to date on the latest COVID-19 hotspots (cities or local areas where COVID-19 is spreading widely). If possible, avoid traveling to places � especially if you are an older person or have diabetes, heart or lung disease.Why? You have a higher chance of catching COVID-19 in one of these areas. Protection measures for persons who are in or have recently visited (past 14 days) areas where COVID-19 is spreadingFollow the guidance outlined above (Protection measures for everyone) Self-isolate by staying at home if you begin to feel unwell, even with mild symptoms such as headache, low grade fever (37.3 C or above) and slight runny nose, until you recover. If it is essential for you to have someone bring you supplies or to go out, e.g. to buy food, then wear a mask to avoid infecting other people.Why? Avoiding contact with others and visits to medical facilities will allow these facilities to operate more effectively and help protect you and others from possible COVID-19 and other viruses.If you develop fever, cough and difficulty breathing, seek medical advice promptly as this may be due to a respiratory infection or other serious condition. Call in advance and tell your provider of any recent travel or contact with travelers.Why? Calling in advance will allow your health care provider to quickly direct you to the right health facility. This will also help to prevent possible spread of COVID-19 and other viruses.'],\n",
       "   'context': ['']},\n",
       "  {'tag': 'COVID-19_ATM',\n",
       "   'patterns': ['Can I step out to withdraw money from the ATM?',\n",
       "    'Is it safe to use the ATM?'],\n",
       "   'responses': ['Yes, one can step out to withdraw money individually'],\n",
       "   'context': ['']},\n",
       "  {'tag': 'COVID-19_lifts',\n",
       "   'patterns': ['Is it safe to use the lift in my building.?',\n",
       "    'Can i still use lifts?'],\n",
       "   'responses': ['Yes. You have to ensure that you maintain proper hand hygeine and respiratory hygiene. You can even try disposable gloves and face mask to protect yourself from catching the infection through the lift buttons.'],\n",
       "   'context': ['']},\n",
       "  {'tag': 'COVID-19_movement',\n",
       "   'patterns': ['Will I be able to leave my city/state?',\n",
       "    'Can i move from my city to another?'],\n",
       "   'responses': ['Several states have sealed their borders and only essential services and emergency cases are being allowed to cross. Travel only if you must.'],\n",
       "   'context': ['']},\n",
       "  {'tag': 'COVID-19_lockdown_penalties',\n",
       "   'patterns': ['Will I be penalised, if I break the lockdown?',\n",
       "    'Definition of COVID-19'],\n",
       "   'responses': ['All lockdown advisories should be followed with utmost seriousness. The police can take punitive action against you if they feel your actions are endangering the lives or disrupting the law.'],\n",
       "   'context': ['']},\n",
       "  {'tag': 'COVID-19_money',\n",
       "   'patterns': ['Will I able to withdraw money?',\n",
       "    'Are banks essential services?'],\n",
       "   'responses': ['Yes. Cashier and teller operations of banks, including ATMs, falls under the essential category list.'],\n",
       "   'context': ['']},\n",
       "  {'tag': 'COVID-19_pharmacies',\n",
       "   'patterns': ['What if someone needs to visit a pharmacy for medicines?',\n",
       "    'Will pharmacies be open?'],\n",
       "   'responses': ['All pharmacies across the countries are categorised under the essential list and will continue to function as per their normal working hours.'],\n",
       "   'context': ['']},\n",
       "  {'tag': 'COVID-19_hospitals',\n",
       "   'patterns': ['Will the hospitals remain open?', 'Will hospitals be open'],\n",
       "   'responses': ['Yes. Hospitals will operate normally.'],\n",
       "   'context': ['']},\n",
       "  {'tag': 'COVID-19_grocery_stores',\n",
       "   'patterns': ['Will local grocery stores operate?',\n",
       "    'Can i visit a grocery store'],\n",
       "   'responses': ['Yes. All stores selling food items, groceries � fruits, vegetables, milk, bakery items, meat, fish etc � will continue to remain open.'],\n",
       "   'context': ['']},\n",
       "  {'tag': 'COVID-19_isolation',\n",
       "   'patterns': ['Will isolation help 100 per cent prevention against corona?',\n",
       "    'Should i isolate if i contract COVID-19'],\n",
       "   'responses': ['Yes. If you and your family have not been exposed to the virus, isolation will keep you protected. And if you have been exposed and recommended self-quarantine, make sure you follow that dutifully to keep other safe.'],\n",
       "   'context': ['']},\n",
       "  {'tag': 'COVID-19_stocking_essentials',\n",
       "   'patterns': ['Do I need to stock essential items?',\n",
       "    'Should i buy essential items in bulk'],\n",
       "   'responses': [\"No. You don't need to stock essential items. There is enough stock available in the market and hoarding it won't be useful.\"],\n",
       "   'context': ['']},\n",
       "  {'tag': 'COVID-19_affect_children',\n",
       "   'patterns': ['Does COVID-19 affect children?',\n",
       "    'Can my child contract COVID-19'],\n",
       "   'responses': ['This is a new virus and we do not know enough yet about how it affects children or pregnant women. We know it is possible for people of any age to be infected with the virus, but so far there have been relatively few cases of COVID-19 reported among children. The virus is fatal in rare cases, so far mainly among older people with pre-existing medical conditions.'],\n",
       "   'context': ['']},\n",
       "  {'tag': 'COVID-19_novel_coronavirus',\n",
       "   'patterns': ['What is a novel coronavirus?',\n",
       "    'Definition of novel coronavirus'],\n",
       "   'responses': ['A novel coronavirus (CoV) is a new strain of coronavirus.\\n\\nThe disease caused by the novel coronavirus first identified in Wuhan, China, has been named coronavirus disease 2019 (COVID-19) � �CO� stands for corona, �VI� for virus, and �D� for disease.\\nFormerly, this disease was referred to as �2019 novel coronavirus� or �2019-nCoV.�\\n\\nThe COVID-19 virus is a new virus linked to the same family of viruses as Severe Acute Respiratory Syndrome (SARS) and some types of common cold.'],\n",
       "   'context': ['']},\n",
       "  {'tag': 'COVID-19_child_contracts',\n",
       "   'patterns': ['What should I do if my child has symptoms of COVID-19?',\n",
       "    'How do i know if my child has COVID-19?'],\n",
       "   'responses': ['Seek medical attention, but remember that it�s flu season in the Northern Hemisphere, and symptoms of COVID-19 such as cough or fever can be similar to those of the flu, or the common cold � which are a lot more frequent.\\n\\nContinue to follow good hand and respiratory hygiene practices like regular handwashing, and keep your child up to date with vaccinations � so that your child is protected against other viruses and bacteria causing diseases.\\n\\nAs with other respiratory infections like the flu, seek care early if you or your child are having symptoms, and try to avoid going to public places (workplace, schools, public transport), to prevent spread to others.'],\n",
       "   'context': ['']},\n",
       "  {'tag': 'COVID-19_family_member',\n",
       "   'patterns': ['What should I do if a family member displays symptoms?',\n",
       "    'Steps when a family member displays symptoms'],\n",
       "   'responses': ['You should seek medical care early if you or your child has a fever, cough or difficulty breathing. Consider calling ahead to tell your health care provider if you have traveled to an area where COVID-19 has been reported, or if you have been in close contact with someone with who has traveled from one of these areas and has respiratory symptoms.'],\n",
       "   'context': ['']},\n",
       "  {'tag': 'COVID-19_handwashing_steps',\n",
       "   'patterns': ['What is the best way to wash hands properly?',\n",
       "    'Steps when washing your hands?'],\n",
       "   'responses': ['COVID-19 is the infectious disease caused by the most recently discovered coronavirus. This new virus and disease were unknown before the outbreak began in Wuhan, China, in December 2019.'],\n",
       "   'context': ['']},\n",
       "  {'tag': 'COVID-19_pregnant_women',\n",
       "   'patterns': ['Can pregnant women pass coronavirus to unborn children?',\n",
       "    'Can an unborn child contract COVID-19 from mother'],\n",
       "   'responses': ['At this time, there is not enough evidence to determine whether the virus is transmitted from a mother to her baby during pregnancy, or the potential impact this may have on the baby. This is currently being investigated. Pregnant women should continue to follow appropriate precautions to protect themselves from exposure to the virus, and seek medical care early, if experiencing symptoms, such as fever, cough or difficulty breathing.\\n\\nIs it safe for a mother to breastfeed if she is infected with coronavirus?\\n\\nAll mothers in affected and at-risk areas who have symptoms of fever, cough or difficulty breathing, should seek medical care early, and follow instructions from a health care provider.\\n\\nConsidering the benefits of breastfeeding and the insignificant role of breastmilk in the transmission of other respiratory viruses, the mother can continue breastfeeding, while applying all the necessary precautions.\\n\\nFor symptomatic mothers well enough to breastfeed, this includes wearing a mask when near a child (including during feeding), washing hands before and after contact with the child (including feeding), and cleaning/disinfecting contaminated surfaces � as should be done in all cases where anyone with confirmed or suspected COVID-19 interacts with others, including children.\\n\\nIf a mother is too ill, she should be encouraged to express milk and give it to the child via a clean cup and/or spoon � all while following the same infection prevention methods.'],\n",
       "   'context': ['']},\n",
       "  {'tag': 'COVID-19_child_risk',\n",
       "   'patterns': ['What is the risk of my child becoming sick with COVID-19?',\n",
       "    'Are children at a higher risk of contracting COVID-19'],\n",
       "   'responses': ['Based on available evidence, children do not appear to be at higher risk for COVID-19 than adults. While some children and infants have been sick with COVID-19, adults make up most of the known cases to date. You can learn more about who is most at risk for health problems if they have COVID-19 infection on CDC�s current Risk Assessment page.'],\n",
       "   'context': ['']},\n",
       "  {'tag': 'COVID-19_work',\n",
       "   'patterns': ['When should we identify ourselves as \"being sick\" and stay at home?',\n",
       "    'Should i go to work if i get a fever?'],\n",
       "   'responses': ['Although a fever is a sure sign that you are sick enough not to come to work, anyone experiencing respiratory symptoms like coughing and sneezing should stay at home.'],\n",
       "   'context': ['']},\n",
       "  {'tag': 'COVID-19_recovered',\n",
       "   'patterns': ['Can people who recover from COVID-19 be infected again?',\n",
       "    'Can i contract COVID-19  after recovery'],\n",
       "   'responses': ['We know that for similar coronaviruses, infected people are unlikely to be re-infected shortly after they recover. However, because the immune response to COVID-19 is not yet understood, it is not yet known whether similar immune protection will be observed for patients who have recovered from COVID-19.'],\n",
       "   'context': ['']},\n",
       "  {'tag': 'COVID-19_definition',\n",
       "   'patterns': ['How do I know if it is COVID-19 or just the common flu?',\n",
       "    'Should i be tested for COVID-19 if i have symptoms for common flu'],\n",
       "   'responses': ['A COVID-19 infection has the same signs and symptoms as the common cold and you can only differentiate them through laboratory testing to determine the virus type.'],\n",
       "   'context': ['']},\n",
       "  {'tag': 'COVID-19_hand_sanitizers_alternatives',\n",
       "   'patterns': ['What alternatives do I have if there are no hand sanitizers available?',\n",
       "    'Can I use other alcohol like ethyl or liquor?'],\n",
       "   'responses': ['If hand sanitizers are not available, hand washing with soap and water is the recommended, and even better, alternative. Liquor is not effective against coronavirus. For an alcohol-based hand rub to be effective, it must have an alcohol content of 60% to 95%'],\n",
       "   'context': ['']},\n",
       "  {'tag': 'COVID-19_weather_and_temperature',\n",
       "   'patterns': ['Is there a connection between COVID -19 and environment temperature?',\n",
       "    'Does weather and temperature affect COVID-19'],\n",
       "   'responses': ['It is not known yet if weather and temperature changes impact or has any connection with COVID-19. At this time, it is not clear or known if the spread of COVID-19 will decrease when the weather becomes warmer.'],\n",
       "   'context': ['']},\n",
       "  {'tag': 'COVID-19_heart disease_diabetes_hypertension',\n",
       "   'patterns': ['Are patients with heart disease, diabetes or hypertension at increased risk to get coronavirus infection?',\n",
       "    'Are patients with heart disease, diabetes or hypertension at increased risk to get coronavirus infection?'],\n",
       "   'responses': ['No, people with hypertension, diabetes or heart diseases are at no greater risk of getting the infection than anyone else.'],\n",
       "   'context': ['']},\n",
       "  {'tag': 'COVID-19_diabetes',\n",
       "   'patterns': ['Are people with diabetes more prone to Covid-19 ?',\n",
       "    'Does diabetes make it easier to get COVID-19'],\n",
       "   'responses': ['In general, you know that people with uncontrolled diabetes are at increased risk of all infections. People with diabetes are not at higher risk for acquiring the infection, but some individuals are prone to more severe disease and poorer outcomes once infected.\\n\\nHence, follow your diet and exercise routine (to the extent possible), take your medications regularly and test your sugar levels frequently so as to keep your diabetes under control. When diabetic patients become sick, they may require frequent monitoring of blood glucose and adjustment of drugs including insulin, small frequent meals and adequate fluids'],\n",
       "   'context': ['']},\n",
       "  {'tag': 'COVID-19_BP_medication',\n",
       "   'patterns': ['What about reports about BP medications increasing severity of COVID-19 ?',\n",
       "    'Does ACE inhibitors make covid-19 infection worse'],\n",
       "   'responses': ['After review of the available information the consensus of various scientific societies and expert group of cardiologists is that currently there is no evidence that the two group of drugs- ACE inhibitors (For instance, Ramipril, Enalapril and so on) and angiotensin receptor blockers (ARBs) (Namely, Losartan, Telmisartan and so on) increase the susceptibility or severity of COVID-19.\\n\\nThese drugs are very effective for heart failure by supporting your heart function, and controlling high blood pressure. It may be harmful to stop these medications by yourself. This can worsen your heart condition.'],\n",
       "   'context': ['']},\n",
       "  {'tag': 'COVID-19_painkillers',\n",
       "   'patterns': ['What can I take pain or fever?',\n",
       "    'Can i take any painkillers with COVID-19?'],\n",
       "   'responses': ['Some type of painkillers like Ibuprofen is found to worsen the COVID-19. Such drugs are known to be harmful to heart failure patients and may increase your risk of kidney damage. Avoid NSAIDs or take them only when prescribed by your doctor. Paracetamol is one of the safest pain killers to use if needed.'],\n",
       "   'context': ['']},\n",
       "  {'tag': 'COVID-19_symptoms_control',\n",
       "   'patterns': ['What should I do if I get symptoms suggestive of COVID-19?',\n",
       "    'What should i do when i have shortness of breath'],\n",
       "   'responses': ['In case you get fever, cough, muscle pain without shortness of breath, call your doctor and seek advice on phone. You need to stay at home (at least for 14 days) and avoid close contact with other family members and maintain hand hygiene and correctly wear a medical mask. If there is shortness of breath or worsening symptoms like excessive fatigue call or visit a doctor.'],\n",
       "   'context': ['']},\n",
       "  {'tag': 'COVID-19_hot_water_and_alcohol',\n",
       "   'patterns': ['Will sipping hot water kill the virus?',\n",
       "    'Will alcohol kill the virus'],\n",
       "   'responses': ['Neither sipping hot water nor consumption of alcohol will kill the virus. Alcohol-based sanitisers kill the virus on your hands but once in your throat, the virus infects the cells and alcohol cannot help there.'],\n",
       "   'context': ['']},\n",
       "  {'tag': 'COVID-19_soap_or_handsanitizers',\n",
       "   'patterns': ['Are hand sanitisers better than soap?', 'Is soap better?'],\n",
       "   'responses': [' If you can use soap with water, it is a better thing. One uses soap more thoroughly and it helps clear the virus in between the fingers and under the nails. If you do not have soap, use hand sanitiser but clean your hands thoroughly and regularly.'],\n",
       "   'context': ['']},\n",
       "  {'tag': 'COVID-19_coronavirus_vaccine',\n",
       "   'patterns': ['Is there a vaccine for a novel coronavirus?',\n",
       "    'When will a vaccine be released for COVID-19'],\n",
       "   'responses': ['When a disease is new, there is no vaccine until one is developed. It can take a number of years for a new vaccine to be developed.'],\n",
       "   'context': ['']},\n",
       "  {'tag': 'COVID-19_heat',\n",
       "   'patterns': ['Can coronavirus live in heat?',\n",
       "    'Will COVID-19 cases reduce in summer?'],\n",
       "   'responses': ['Several countries currently affected by the new coronavirus outbreak are experiencing summer weather. Some viral illnesses, like the flu, seem to be less common in warmer months, but it is still possible to catch them during that time. Investigations are exploring the effects of temperature and weather on the spread of this new coronavirus.'],\n",
       "   'context': ['']},\n",
       "  {'tag': 'COVID-19_why_coronavirus',\n",
       "   'patterns': ['Why is it called a �coronavirus?�',\n",
       "    'origin of name coronavirus?'],\n",
       "   'responses': ['Corona means �crown,� and coronaviruses have a �crown� of protruding points on their surface that give them a characteristic appearance when seen under a microscope. Coronaviruses are a whole family of viruses; there are many.'],\n",
       "   'context': ['']},\n",
       "  {'tag': 'COVID-19_coronavirus_differences',\n",
       "   'patterns': ['What�s the difference between the new coronavirus and other coronaviruses?',\n",
       "    'Types of coronavirus'],\n",
       "   'responses': ['There are many different kinds of coronavirus. Some only affect animals. Some have been circulating among human beings for years, causing mild colds. Others have caused small, severe human disease outbreaks in the past, such as the coronaviruses that caused SARS in 2003 and MERS in 2012. The new coronavirus is different from these, and was only identified in December 2019.'],\n",
       "   'context': ['']},\n",
       "  {'tag': 'COVID-19_origin',\n",
       "   'patterns': ['Is the virus �natural� or was it bio-engineered?',\n",
       "    'Is the virus �natural� or was it bio-engineered?'],\n",
       "   'responses': ['It is extremely unlikely that the virus was bio-engineered or synthesised, and extremely likely to be of natural origin.\\n\\nIt is a zoonotic virus, which means it spread from non-humans to humans. Perhaps the most famous zoonotic disease among humans is AIDS, caused by the human immunodeficiency virus that �jumped� from primates in Africa to humans in the first half of the 20th century.'],\n",
       "   'context': ['']},\n",
       "  {'tag': 'COVID-19_definition',\n",
       "   'patterns': ['What does �flatten the curve� mean?',\n",
       "    'Definition of flattening the curve'],\n",
       "   'responses': ['Say it�s a cold winter day and you�re inside a room with an object that emits heat. There are two settings on the object: to release all the heat in a short period of time, i.e. in a burst, or to continuously release a smaller amount of heat over a longer period of time. Which one will you pick?\\n\\nThe second setting is the wiser option � and it�s the same with an infectious disease outbreak. It�s better to have the new coronavirus spread such that the number of people being hospitalised is a steady stream spread out over a longer period than a burst of a large number of people hospitalised over a shorter period.\\n\\nThis preference is called �flattening the curve�. The �curve� stands for the plot of the number of people requiring hospitalisation versus time.\\n\\nIf the burst scenario plays out, for example because a local population didn�t maintain proper infection control practices, the number of people requiring hospitalisation at any given time is likely to exceed the available capacity, placing more people�s lives at risk.'],\n",
       "   'context': ['']},\n",
       "  {'tag': 'COVID-19_price_test',\n",
       "   'patterns': ['Is the test free?', 'How much will i pay to be tested?'],\n",
       "   'responses': ['Yes. All COVID-19 tests being conducted at government laboratories are free of cost.'],\n",
       "   'context': ['']},\n",
       "  {'tag': 'COVID-19_test_positive',\n",
       "   'patterns': ['What happens if I test positive?',\n",
       "    'Can i leave the hospital if i test positive?'],\n",
       "   'responses': ['If you test positive, you will be hospitalised until doctors can ascertain you no longer have COVID-19.'],\n",
       "   'context': ['']},\n",
       "  {'tag': 'COVID-19_medical_policies',\n",
       "   'patterns': ['Do medical insurance policies cover COVID-19?',\n",
       "    'Am i insured against COVID-19'],\n",
       "   'responses': ['Yes. The Insurance Regulatory and Development Authority of India instructed all insurers via a notice on March 4, 2020, to cover all claims pertaining to hospitalisation due to coronavirus and medical expenses incurred due to treatment of coronavirus.'],\n",
       "   'context': ['']},\n",
       "  {'tag': 'COVID-19_worry',\n",
       "   'patterns': ['Should I worry about COVID-19?',\n",
       "    'Are COVID-19 symptoms serious?'],\n",
       "   'responses': ['Illness due to COVID-19 infection is generally mild, especially for children and young adults. However, it can cause serious illness: about 1 in every 5 people who catch it need hospital care. It is therefore quite normal for people to worry about how the COVID-19 outbreak will affect them and their loved ones. We can channel our concerns into actions to protect ourselves, our loved ones and our communities. First and foremost among these actions is regular and thorough hand-washing and good respiratory hygiene. Secondly, keep informed and follow the advice of the local health authorities including any restrictions put in place on travel, movement and gatherings. Learn more about how to protect yourself at https://www.who.int/emergencies/diseases/novel-coronavirus-2019/advice-for-public'],\n",
       "   'context': ['']},\n",
       "  {'tag': 'COVID-19_packages',\n",
       "   'patterns': ['Is it safe to receive a package from any area where COVID-19 has been reported?',\n",
       "    'Should i still handle packages?'],\n",
       "   'responses': ['Yes. The likelihood of an infected person contaminating commercial goods is low and the risk of catching the virus that causes COVID-19 from a package that has been moved, travelled, and exposed to different conditions and temperature is also low.'],\n",
       "   'context': ['']},\n",
       "  {'tag': 'COVID-19_symptoms',\n",
       "   'patterns': ['What are the symptoms of COVID-19?',\n",
       "    'How do i know if i have COVID-19'],\n",
       "   'responses': [\"The most common symptoms of COVID-19 are fever, tiredness, and dry cough. Some patients may have aches and pains, nasal congestion, runny nose, sore throat or diarrhea. These symptoms are usually mild and begin gradually. Some people become infected but don�t develop any symptoms and don't feel unwell. Most people (about 80%) recover from the disease without needing special treatment. Around 1 out of every 6 people who gets COVID-19 becomes seriously ill and develops difficulty breathing. Older people, and those with underlying medical problems like high blood pressure, heart problems or diabetes, are more likely to develop serious illness. People with fever, cough and difficulty breathing should seek medical attention.\"],\n",
       "   'context': ['']},\n",
       "  {'tag': 'COVID-19_incubation_period',\n",
       "   'patterns': ['How long is the incubation period for COVID-19?',\n",
       "    'How long does it take to show symptoms'],\n",
       "   'responses': ['The �incubation period� means the time between catching the virus and beginning to have symptoms of the disease. Most estimates of the incubation period for COVID-19 range from 1-14 days, most commonly around five days. These estimates will be updated as more data become available.'],\n",
       "   'context': ['']},\n",
       "  {'tag': 'COVID-19_vaccine',\n",
       "   'patterns': ['Is there a vaccine, drug or treatment for COVID-19?',\n",
       "    'Are vaccines ready for human use?'],\n",
       "   'responses': ['Not yet. To date, there is no vaccine and no specific antiviral medicine to prevent or treat COVID-2019. However, those affected should receive care to relieve symptoms. People with serious illness should be hospitalized. Most patients recover thanks to supportive care. Possible vaccines and some specific drug treatments are under investigation. They are being tested through clinical trials. WHO is coordinating efforts to develop vaccines and medicines to prevent and treat COVID-19. The most effective ways to protect yourself and others against COVID-19 are to frequently clean your hands, cover your cough with the bend of elbow or tissue, and maintain a distance of at least 1 meter (3 feet) from people who are coughing or sneezing. (See Basic protective measures against the new coronavirus).'],\n",
       "   'context': ['']},\n",
       "  {'tag': 'COVID-19_Pets',\n",
       "   'patterns': ['Can I catch COVID-19 from my pet?',\n",
       "    'Can humans become infected with the COVID-19 from an animal source?'],\n",
       "   'responses': ['We are aware of instances of animals and pets of COVID-19 patients being infected with the disease;As the intergovernmental body responsible for improving animal health worldwide, the World Organisation for Animal Health (OIE) has been developing technical guidance on specialised topics related to animal health, dedicated to veterinary services and technical experts (including on testing and quarantine);There is a possibility for some animals to become infected through close contact with infected humans. Further evidence is needed to understand if animals and pets can spread the disease;Based on current evidence, human to human transmission remains the main driver;It is still too early to say whether cats could be the intermediate host in the transmission of the COVID-19.'],\n",
       "   'context': ['']},\n",
       "  {'tag': 'Coronavirus_definition',\n",
       "   'patterns': ['What is a coronavirus?', 'Definition of coronavirus'],\n",
       "   'responses': ['Coronaviruses are a large family of viruses which may cause illness in animals or humans. In humans, several coronaviruses are known to cause respiratory infections ranging from the common cold to more severe diseases such as Middle East Respiratory Syndrome (MERS) and Severe Acute Respiratory Syndrome (SARS). The most recently discovered coronavirus causes coronavirus disease COVID-19.'],\n",
       "   'context': ['']},\n",
       "  {'tag': 'COVID-19_antibiotics',\n",
       "   'patterns': ['Are antibiotics effective in preventing or treating the COVID-19?',\n",
       "    'Are antibiotics good in COVID-19 treatment?'],\n",
       "   'responses': ['No. Antibiotics do not work against viruses, they only work on bacterial infections. COVID-19 is caused by a virus, so antibiotics do not work. Antibiotics should not be used as a means of prevention or treatment of COVID-19. They should only be used as directed by a physician to treat a bacterial infection.'],\n",
       "   'context': ['']},\n",
       "  {'tag': 'COVID-19_source',\n",
       "   'patterns': ['Is the source of the coronavirus causing COVID-19 known?',\n",
       "    'Source of coronavirus'],\n",
       "   'responses': ['Currently, the source of SARS-CoV-2, the coronavirus (CoV) causing COVID-19 is unknown. All available evidence suggests that SARS-CoV-2 has a natural animal origin and is not a constructed virus. SARS-CoV-2 virus most probably has its ecological reservoir in bats. SARS-CoV-2, belongs to a group of genetically related viruses, which also include SARS-CoV and a number of other CoVs isolated from bats populations. MERS-CoV also belongs to this group, but is less closely related.'],\n",
       "   'context': ['']},\n",
       "  {'tag': 'COVID-19_likelihood',\n",
       "   'patterns': ['How likely am I to catch COVID-19?',\n",
       "    'Is it easy to catch COVID-19'],\n",
       "   'responses': ['The risk depends on where you are - and more specifically, whether there is a COVID-19 outbreak unfolding there. For most people in most locations the risk of catching COVID-19 is still low. However, there are now places around the world (cities or areas) where the disease is spreading. For people living in, or visiting, these areas the risk of catching COVID-19 is higher. Governments and health authorities are taking vigorous action every time a new case of COVID-19 is identified. Be sure to comply with any local restrictions on travel, movement or large gatherings. Cooperating with disease control efforts will reduce your risk of catching or spreading COVID-19.COVID-19 outbreaks can be contained and transmission stopped, as has been shown in China and some other countries. Unfortunately, new outbreaks can emerge rapidly. It�s important to be aware of the situation where you are or intend to go. WHO publishes daily updates on the COVID-19 situation worldwide. You can see these at https://www.who.int/emergencies/diseases/novel-coronavirus-2019/situation-reports/'],\n",
       "   'context': ['']},\n",
       "  {'tag': 'COVID-19_first_occurrence',\n",
       "   'patterns': ['How did the first human SARS-CoV-2 infections occur?',\n",
       "    'How did COVID-19 occur'],\n",
       "   'responses': ['The first human cases of COVID-19 were identified in Wuhan City, China in December 2019. At this stage, it is not possible to determine precisely how humans in China were initially infected with SARS-CoV-2.However, SARS-CoV, the virus which caused the SARS outbreak in 2003, jumped from an animal reservoir (civet cats, a farmed wild animal) to humans and then spread between humans. In a similar way, it is thought that SARS-CoV-2 jumped the species barrier and initially infected humans, but more likely through an intermediate host, that is another animal species more likely to be handled by humans - this could be a domestic animal, a wild animal, or a domesticated wild animal and, as of yet, has not been identified.Until the source of this virus is identified and controlled, there is a risk of reintroduction of the virus in the human population and the risk of new outbreaks like the ones we are currently experiencing'],\n",
       "   'context': ['']},\n",
       "  {'tag': 'Surface_infections',\n",
       "   'patterns': ['How long does the virus survive on surfaces?',\n",
       "    'Can i get COVID-19 from surfaces'],\n",
       "   'responses': ['It is not certain how long the virus that causes COVID-19 survives on surfaces, but it seems to behave like other coronaviruses. Studies suggest that coronaviruses (including preliminary information on the COVID-19 virus) may persist on surfaces for a few hours or up to several days. This may vary under different conditions (e.g. type of surface, temperature or humidity of the environment).If you think a surface may be infected, clean it with simple disinfectant to kill the virus and protect yourself and others. Clean your hands with an alcohol-based hand rub or wash them with soap and water. Avoid touching your eyes, mouth, or nose.'],\n",
       "   'context': ['']},\n",
       "  {'tag': 'COVID-19_cure',\n",
       "   'patterns': ['Are there any medicines or therapies that can prevent or cure COVID-19?',\n",
       "    'Is there a cure for COVID-19'],\n",
       "   'responses': ['While some western, traditional or home remedies may provide comfort and alleviate symptoms of COVID-19, there is no evidence that current medicine can prevent or cure the disease. WHO does not recommend self-medication with any medicines, including antibiotics, as a prevention or cure for COVID-19. However, there are several ongoing clinical trials that include both western and traditional medicines. WHO will continue to provide updated information as soon as clinical findings are available.'],\n",
       "   'context': ['']},\n",
       "  {'tag': 'preventive_measures',\n",
       "   'patterns': ['Is there anything I should not do?',\n",
       "    'what are some harmful practices'],\n",
       "   'responses': ['The following measures ARE NOT effective against COVID-2019 and can be harmful:SmokingWearing multiple masksTaking antibiotics (See question 10 \"Are there any medicines of therapies that can prevent or cure COVID-19?\")In any case, if you have fever, cough and difficulty breathing seek medical care early to reduce the risk of developing a more severe infection and be sure to share your recent travel history with your health care provider.'],\n",
       "   'context': ['']},\n",
       "  {'tag': 'spread',\n",
       "   'patterns': ['How does COVID-19 spread?', 'How can i catch COVID-19'],\n",
       "   'responses': ['People can catch COVID-19 from others who have the virus. The disease can spread from person to person through small droplets from the nose or mouth which are spread when a person with COVID-19 coughs or exhales. These droplets land on objects and surfaces around the person. Other people then catch COVID-19 by touching these objects or surfaces, then touching their eyes, nose or mouth. People can also catch COVID-19 if they breathe in droplets from a person with COVID-19 who coughs out or exhales droplets. This is why it is important to stay more than 1 meter (3 feet) away from a person who is sick. WHO is assessing ongoing research on the ways COVID-19 is spread and will continue to share updated findings.'],\n",
       "   'context': ['']}]}"
      ]
     },
     "execution_count": 4,
     "metadata": {},
     "output_type": "execute_result"
    }
   ],
   "source": [
    "intents"
   ]
  },
  {
   "cell_type": "markdown",
   "id": "88914f1b",
   "metadata": {},
   "source": [
    "# Data Pre-processing"
   ]
  },
  {
   "cell_type": "markdown",
   "id": "b3475bf7",
   "metadata": {},
   "source": [
    "\n",
    "data pre-processing will be done by tokenizing our data.\n",
    "Tokenizing is the process of breaking the whole text into small parts like words.\n",
    "Here we iterate through the patterns and tokenize the sentence using nltk.word_tokenize() function and append each word in the words list. We also create a list of classes for our tags."
   ]
  },
  {
   "cell_type": "code",
   "execution_count": 5,
   "id": "3862582f",
   "metadata": {},
   "outputs": [],
   "source": [
    "words=[]\n",
    "classes=[]\n",
    "documents=[]\n",
    "ignore=['?','!','.', ',']\n",
    "#Loop through \n",
    "for intent in intents['intents']:\n",
    "    for pattern in intent['patterns']:\n",
    "        #Tokenize\n",
    "        w= nltk.word_tokenize(pattern)\n",
    "        \n",
    "        #Add the word to words list\n",
    "        words.extend(w)\n",
    "        \n",
    "        #Add words to the document \n",
    "        documents.append((w, intent['tag']))\n",
    "        \n",
    "        #Add tags to classes list\n",
    "        if intent['tag'] not in classes:\n",
    "            classes.append(intent['tag'])\n",
    "        "
   ]
  },
  {
   "cell_type": "code",
   "execution_count": 6,
   "id": "7edcb04e",
   "metadata": {},
   "outputs": [],
   "source": [
    "#Lemmatize the words and remove any duplictes from the list\n",
    "from nltk.stem import WordNetLemmatizer\n",
    "lemmatizer=WordNetLemmatizer()\n",
    "words=[lemmatizer.lemmatize(w.lower()) for w in words if w not in ignore]\n",
    "\n",
    "#Sort words\n",
    "words=sorted(list(set(words)))\n",
    "\n",
    "#Sort classes\n",
    "classes=sorted(list(set(classes)))"
   ]
  },
  {
   "cell_type": "code",
   "execution_count": 7,
   "id": "80a5468c",
   "metadata": {},
   "outputs": [
    {
     "name": "stdout",
     "output_type": "stream",
     "text": [
      "61 classes ['COVID-19_ATM', 'COVID-19_BP_medication', 'COVID-19_Pets', 'COVID-19_affect_children', 'COVID-19_antibiotics', 'COVID-19_child_contracts', 'COVID-19_child_risk', 'COVID-19_coronavirus_differences', 'COVID-19_coronavirus_vaccine', 'COVID-19_cure', 'COVID-19_definition', 'COVID-19_diabetes', 'COVID-19_family_member', 'COVID-19_first_occurrence', 'COVID-19_grocery_stores', 'COVID-19_hand_sanitizers_alternatives', 'COVID-19_handwashing_steps', 'COVID-19_heart disease_diabetes_hypertension', 'COVID-19_heat', 'COVID-19_hospitals', 'COVID-19_hot_water_and_alcohol', 'COVID-19_incubation_period', 'COVID-19_isolation', 'COVID-19_lifts', 'COVID-19_likelihood', 'COVID-19_lockdown_penalties', 'COVID-19_mask_use', 'COVID-19_medical_policies', 'COVID-19_money', 'COVID-19_movement', 'COVID-19_novel_coronavirus', 'COVID-19_origin', 'COVID-19_packages', 'COVID-19_painkillers', 'COVID-19_pharmacies', 'COVID-19_pregnant_women', 'COVID-19_price_test', 'COVID-19_protection', 'COVID-19_recovered', 'COVID-19_soap_or_handsanitizers', 'COVID-19_source', 'COVID-19_stocking_essentials', 'COVID-19_symptoms', 'COVID-19_symptoms_control', 'COVID-19_test_positive', 'COVID-19_vaccine', 'COVID-19_weather_and_temperature', 'COVID-19_why_coronavirus', 'COVID-19_work', 'COVID-19_worry', 'Coronavirus_definition', 'SARS_similarities', 'Surface_infections', 'air_transmission', 'goodbye', 'greeting', 'options', 'preventive_measures', 'severe_illness', 'spread', 'thanks']\n"
     ]
    }
   ],
   "source": [
    "#Classes=intents\n",
    "print(len(classes), 'classes', classes)"
   ]
  },
  {
   "cell_type": "code",
   "execution_count": 8,
   "id": "b8de562f",
   "metadata": {},
   "outputs": [
    {
     "name": "stdout",
     "output_type": "stream",
     "text": [
      "315 unique lemmatized words [\"''\", \"'s\", '-19', '100', '``', 'a', 'able', 'about', 'ace', 'affect', 'after', 'again', 'against', 'air', 'airborne', 'alcohol', 'alternative', 'am', 'an', 'and', 'animal', 'another', 'antibiotic', 'any', 'anyone', 'anything', 'are', 'area', 'at', 'atm', 'available', 'awesome', 'bank', 'be', 'become', 'becoming', 'been', 'being', 'best', 'better', 'between', 'bio-engineered', 'bp', 'break', 'breath', 'building', 'bulk', 'buy', 'bye', 'called', 'can', 'case', 'catch', 'cause', 'causing', 'cent', 'chatting', 'child', 'city', 'city/state', 'common', 'connection', 'contract', 'contracting', 'corona', 'coronavirus', 'coronaviruses', 'could', 'cover', 'covid', 'covid-19', 'cure', 'curve', 'curve�', 'day', 'definition', 'developing', 'diabetes', 'did', 'difference', 'differently', 'disease', 'display', 'dispose', 'do', 'doe', 'drug', 'easier', 'easy', 'effective', 'environment', 'essential', 'ethyl', 'family', 'fever', 'first', 'flattening', 'flu', 'for', 'free', 'from', 'get', 'go', 'good', 'goodbye', 'grocery', 'ha', 'hand', 'handle', 'happens', 'harmful', 'have', 'heart', 'heat', 'hello', 'help', 'helpful', 'helping', 'hey', 'hi', 'higher', 'hola', 'home', 'hospital', 'hot', 'how', 'human', 'hypertension', 'i', 'identify', 'if', 'illness', 'in', 'increased', 'increasing', 'incubation', 'infected', 'infection', 'inhibitor', 'insurance', 'insured', 'is', 'isolate', 'isolation', 'it', 'item', 'just', 'kill', 'know', 'known', 'later', 'leave', 'lift', 'like', 'likely', 'liquor', 'live', 'local', 'lockdown', 'long', 'make', 'mask', 'me', 'mean', 'measure', 'medical', 'medication', 'medicine', 'member', 'money', 'more', 'mother', 'move', 'much', 'my', 'myself', 'name', 'need', 'new', 'next', 'nice', 'no', 'not', 'novel', 'occur', 'of', 'off', 'offered', 'on', 'open', 'operate', 'or', 'origin', 'other', 'ourselves', 'out', 'package', 'pain', 'painkiller', 'pas', 'patient', 'pay', 'penalised', 'people', 'per', 'period', 'pet', 'pharmacy', 'policy', 'positive', 'practice', 'pregnant', 'prevent', 'preventing', 'prevention', 'prone', 'properly', 'protect', 'protective', 'provide', 'put', 'ready', 'receive', 'recover', 'recovery', 'reduce', 'released', 'remain', 'report', 'reported', 'risk', 'safe', 'same', 'sanitisers', 'sanitizers', 'sars', 'sars-cov-2', 'see', 'serious', 'service', 'severe', 'severity', 'shortness', 'should', 'show', 'sick', 'similarity', 'sipping', 'soap', 'some', 'someone', 'source', 'spread', 'stay', 'step', 'still', 'stock', 'store', 'suggestive', 'summer', 'support', 'surface', 'survive', 'symptom', 'take', 'temperature', 'test', 'tested', 'than', 'thank', 'thanks', 'that', 'the', 'therapy', 'there', 'through', 'till', 'time', 'to', 'transmitted', 'treating', 'treatment', 'type', 'unborn', 'use', 'vaccine', 'virus', 'visit', 'wa', 'wash', 'washing', 'water', 'way', 'we', 'wear', 'weather', 'what', 'what�s', 'when', 'where', 'who', 'why', 'will', 'with', 'withdraw', 'woman', 'work', 'worry', 'worse', 'you', 'your', '�', '�coronavirus', '�flatten', '�natural�']\n"
     ]
    }
   ],
   "source": [
    "print(len(words), 'unique lemmatized words', words)"
   ]
  },
  {
   "cell_type": "code",
   "execution_count": 9,
   "id": "68e42930",
   "metadata": {},
   "outputs": [],
   "source": [
    "#Create a pickle file to store the python objects\n",
    "import pickle\n",
    "pickle.dump(words, open('words.pkl', 'wb'))\n",
    "pickle.dump(classes,open('classes.pkl', 'wb'))"
   ]
  },
  {
   "cell_type": "markdown",
   "id": "1eac404a",
   "metadata": {},
   "source": [
    "# Creating Training data"
   ]
  },
  {
   "cell_type": "code",
   "execution_count": 10,
   "id": "64b1a266",
   "metadata": {},
   "outputs": [],
   "source": [
    "#Create training data\n",
    "training=[]\n",
    "\n",
    "#Create an empty array for the output\n",
    "output_empty=[0] * len(classes)"
   ]
  },
  {
   "cell_type": "code",
   "execution_count": 11,
   "id": "349661e7",
   "metadata": {},
   "outputs": [],
   "source": [
    "#Create training set, bag of words for each sentence\n",
    "for doc in documents:\n",
    "    #Initialize the bow\n",
    "    bag=[]\n",
    "    #list of tokenized words for the pattern\n",
    "    pattern_words=doc[0]\n",
    "    #Lemmatize each word\n",
    "    pattern_words=[lemmatizer.lemmatize(word.lower()) for word in pattern_words]\n",
    "    #Create our bow array with 1 if word match found in current pattern\n",
    "    for w in words:\n",
    "        bag.append(1) if w in pattern_words else bag.append(0)\n",
    "    # output is '0' for each tag and '1' for current tag (for each pattern)\n",
    "    output_row = list(output_empty)\n",
    "    output_row[classes.index(doc[1])] = 1\n",
    "    \n",
    "    training.append([bag, output_row])"
   ]
  },
  {
   "cell_type": "code",
   "execution_count": 12,
   "id": "86fc417a",
   "metadata": {},
   "outputs": [
    {
     "name": "stderr",
     "output_type": "stream",
     "text": [
      "<ipython-input-12-a87698566534>:3: VisibleDeprecationWarning: Creating an ndarray from ragged nested sequences (which is a list-or-tuple of lists-or-tuples-or ndarrays with different lengths or shapes) is deprecated. If you meant to do this, you must specify 'dtype=object' when creating the ndarray.\n",
      "  training=np.array(training)\n"
     ]
    }
   ],
   "source": [
    "#Shuffle our features and turn into np.array\n",
    "random.shuffle(training)\n",
    "training=np.array(training)"
   ]
  },
  {
   "cell_type": "code",
   "execution_count": 13,
   "id": "3f809547",
   "metadata": {},
   "outputs": [],
   "source": [
    "#Create train and test lists where x is patterns and y is intents\n",
    "train_x= list(training[:,0])\n",
    "train_y=list(training[:,1])"
   ]
  },
  {
   "cell_type": "markdown",
   "id": "03908ee1",
   "metadata": {},
   "source": [
    "# Building a neural network"
   ]
  },
  {
   "cell_type": "code",
   "execution_count": 14,
   "id": "7d7a18bf",
   "metadata": {},
   "outputs": [],
   "source": [
    "from keras.models import Sequential"
   ]
  },
  {
   "cell_type": "code",
   "execution_count": 15,
   "id": "efe81efe",
   "metadata": {},
   "outputs": [],
   "source": [
    "from keras.layers import Dense, Activation,Dropout"
   ]
  },
  {
   "cell_type": "code",
   "execution_count": 16,
   "id": "f77b01b6",
   "metadata": {},
   "outputs": [],
   "source": [
    "from keras.optimizers import SGD"
   ]
  },
  {
   "cell_type": "code",
   "execution_count": 17,
   "id": "9d9fb10b",
   "metadata": {},
   "outputs": [],
   "source": [
    "#Create 3 layers, 1st layer with 128 neurons, 2nd layer with 64 neurons\n",
    "#3rd layer neurons=intent\n",
    "\n",
    "model=Sequential()\n",
    "model.add(Dense(128, input_shape=(len(train_x[0]),),\n",
    "                activation='relu'))\n",
    "model.add(Dropout(0.5))\n",
    "model.add(Dense(64, activation='relu'))\n",
    "model.add(Dropout(0.5))\n",
    "model.add(Dense(len(train_y[0]), activation='softmax'))"
   ]
  },
  {
   "cell_type": "code",
   "execution_count": 18,
   "id": "c4432a07",
   "metadata": {},
   "outputs": [],
   "source": [
    "#Use Stochastic gradient descent with nesterov acceleraed to compile model\n",
    "sgd=SGD(learning_rate=0.01, decay=1e-6, momentum=0.9, nesterov=True)\n"
   ]
  },
  {
   "cell_type": "code",
   "execution_count": 19,
   "id": "ff926c28",
   "metadata": {},
   "outputs": [],
   "source": [
    "model.compile(loss='categorical_crossentropy', optimizer=sgd, metrics=['accuracy'])"
   ]
  },
  {
   "cell_type": "code",
   "execution_count": 20,
   "id": "0f8c2021",
   "metadata": {},
   "outputs": [
    {
     "name": "stdout",
     "output_type": "stream",
     "text": [
      "Epoch 1/50\n",
      "28/28 [==============================] - 1s 2ms/step - loss: 4.1130 - accuracy: 0.0170 \n",
      "Epoch 2/50\n",
      "28/28 [==============================] - 0s 2ms/step - loss: 4.1052 - accuracy: 0.0153\n",
      "Epoch 3/50\n",
      "28/28 [==============================] - 0s 2ms/step - loss: 4.0510 - accuracy: 0.0542\n",
      "Epoch 4/50\n",
      "28/28 [==============================] - 0s 2ms/step - loss: 3.9084 - accuracy: 0.2197\n",
      "Epoch 5/50\n",
      "28/28 [==============================] - 0s 2ms/step - loss: 3.9272 - accuracy: 0.0921\n",
      "Epoch 6/50\n",
      "28/28 [==============================] - 0s 2ms/step - loss: 3.8439 - accuracy: 0.1070\n",
      "Epoch 7/50\n",
      "28/28 [==============================] - 0s 2ms/step - loss: 3.7417 - accuracy: 0.1313\n",
      "Epoch 8/50\n",
      "28/28 [==============================] - 0s 2ms/step - loss: 3.6271 - accuracy: 0.1202\n",
      "Epoch 9/50\n",
      "28/28 [==============================] - 0s 2ms/step - loss: 3.4759 - accuracy: 0.2106\n",
      "Epoch 10/50\n",
      "28/28 [==============================] - 0s 2ms/step - loss: 3.3510 - accuracy: 0.1595\n",
      "Epoch 11/50\n",
      "28/28 [==============================] - 0s 2ms/step - loss: 3.2460 - accuracy: 0.2302\n",
      "Epoch 12/50\n",
      "28/28 [==============================] - 0s 2ms/step - loss: 3.0577 - accuracy: 0.2322\n",
      "Epoch 13/50\n",
      "28/28 [==============================] - 0s 2ms/step - loss: 3.1325 - accuracy: 0.2540\n",
      "Epoch 14/50\n",
      "28/28 [==============================] - 0s 2ms/step - loss: 2.7976 - accuracy: 0.2580\n",
      "Epoch 15/50\n",
      "28/28 [==============================] - 0s 2ms/step - loss: 2.8289 - accuracy: 0.2755\n",
      "Epoch 16/50\n",
      "28/28 [==============================] - 0s 2ms/step - loss: 2.4623 - accuracy: 0.3477\n",
      "Epoch 17/50\n",
      "28/28 [==============================] - 0s 2ms/step - loss: 2.3833 - accuracy: 0.4008\n",
      "Epoch 18/50\n",
      "28/28 [==============================] - 0s 2ms/step - loss: 2.2749 - accuracy: 0.3829\n",
      "Epoch 19/50\n",
      "28/28 [==============================] - 0s 2ms/step - loss: 2.0765 - accuracy: 0.4477\n",
      "Epoch 20/50\n",
      "28/28 [==============================] - 0s 2ms/step - loss: 1.9980 - accuracy: 0.4979\n",
      "Epoch 21/50\n",
      "28/28 [==============================] - 0s 2ms/step - loss: 1.7979 - accuracy: 0.5055\n",
      "Epoch 22/50\n",
      "28/28 [==============================] - 0s 2ms/step - loss: 1.8179 - accuracy: 0.4956\n",
      "Epoch 23/50\n",
      "28/28 [==============================] - 0s 2ms/step - loss: 1.6535 - accuracy: 0.5710\n",
      "Epoch 24/50\n",
      "28/28 [==============================] - 0s 2ms/step - loss: 1.5882 - accuracy: 0.5172\n",
      "Epoch 25/50\n",
      "28/28 [==============================] - 0s 2ms/step - loss: 1.6229 - accuracy: 0.5331\n",
      "Epoch 26/50\n",
      "28/28 [==============================] - 0s 2ms/step - loss: 1.5811 - accuracy: 0.5454\n",
      "Epoch 27/50\n",
      "28/28 [==============================] - 0s 2ms/step - loss: 1.3623 - accuracy: 0.6210\n",
      "Epoch 28/50\n",
      "28/28 [==============================] - 0s 2ms/step - loss: 1.5080 - accuracy: 0.5291\n",
      "Epoch 29/50\n",
      "28/28 [==============================] - 0s 2ms/step - loss: 1.3149 - accuracy: 0.5960\n",
      "Epoch 30/50\n",
      "28/28 [==============================] - 0s 2ms/step - loss: 1.3444 - accuracy: 0.5816\n",
      "Epoch 31/50\n",
      "28/28 [==============================] - 0s 2ms/step - loss: 1.3238 - accuracy: 0.6025\n",
      "Epoch 32/50\n",
      "28/28 [==============================] - 0s 2ms/step - loss: 1.1579 - accuracy: 0.6850\n",
      "Epoch 33/50\n",
      "28/28 [==============================] - 0s 2ms/step - loss: 1.0140 - accuracy: 0.7034\n",
      "Epoch 34/50\n",
      "28/28 [==============================] - 0s 2ms/step - loss: 0.8900 - accuracy: 0.7766\n",
      "Epoch 35/50\n",
      "28/28 [==============================] - 0s 2ms/step - loss: 0.9543 - accuracy: 0.7010\n",
      "Epoch 36/50\n",
      "28/28 [==============================] - 0s 2ms/step - loss: 1.0974 - accuracy: 0.6948\n",
      "Epoch 37/50\n",
      "28/28 [==============================] - 0s 2ms/step - loss: 0.7950 - accuracy: 0.7410\n",
      "Epoch 38/50\n",
      "28/28 [==============================] - 0s 2ms/step - loss: 0.9595 - accuracy: 0.6434\n",
      "Epoch 39/50\n",
      "28/28 [==============================] - 0s 2ms/step - loss: 0.7334 - accuracy: 0.7768\n",
      "Epoch 40/50\n",
      "28/28 [==============================] - 0s 2ms/step - loss: 0.7855 - accuracy: 0.7591\n",
      "Epoch 41/50\n",
      "28/28 [==============================] - 0s 2ms/step - loss: 0.8179 - accuracy: 0.7342\n",
      "Epoch 42/50\n",
      "28/28 [==============================] - 0s 2ms/step - loss: 0.8235 - accuracy: 0.7658\n",
      "Epoch 43/50\n",
      "28/28 [==============================] - 0s 2ms/step - loss: 0.8219 - accuracy: 0.7621\n",
      "Epoch 44/50\n",
      "28/28 [==============================] - 0s 2ms/step - loss: 0.8369 - accuracy: 0.7679\n",
      "Epoch 45/50\n",
      "28/28 [==============================] - 0s 2ms/step - loss: 0.8783 - accuracy: 0.7512\n",
      "Epoch 46/50\n",
      "28/28 [==============================] - 0s 2ms/step - loss: 0.8219 - accuracy: 0.7572\n",
      "Epoch 47/50\n",
      "28/28 [==============================] - 0s 2ms/step - loss: 0.6947 - accuracy: 0.8068\n",
      "Epoch 48/50\n",
      "28/28 [==============================] - 0s 3ms/step - loss: 0.8715 - accuracy: 0.7277\n",
      "Epoch 49/50\n",
      "28/28 [==============================] - 0s 3ms/step - loss: 0.7641 - accuracy: 0.7372\n",
      "Epoch 50/50\n",
      "28/28 [==============================] - 0s 2ms/step - loss: 0.8784 - accuracy: 0.7314\n"
     ]
    }
   ],
   "source": [
    "#Fitting the model\n",
    "hist=model.fit(np.array(train_x), np.array(train_y), epochs=50,\n",
    "              batch_size=5, verbose=1)\n"
   ]
  },
  {
   "cell_type": "code",
   "execution_count": 21,
   "id": "efd0058f",
   "metadata": {},
   "outputs": [],
   "source": [
    "#Saving the model\n",
    "model.save('Kevins_covid19_chatbot.h5', hist)"
   ]
  },
  {
   "cell_type": "code",
   "execution_count": 22,
   "id": "f0cfca7e",
   "metadata": {},
   "outputs": [],
   "source": [
    "from keras.models import load_model"
   ]
  },
  {
   "cell_type": "code",
   "execution_count": 23,
   "id": "7add11cd",
   "metadata": {},
   "outputs": [],
   "source": [
    "model=load_model('Kevins_covid19_chatbot.h5')"
   ]
  },
  {
   "cell_type": "code",
   "execution_count": 24,
   "id": "359c45a4",
   "metadata": {},
   "outputs": [],
   "source": [
    "intents=json.loads(open('covid.json').read())"
   ]
  },
  {
   "cell_type": "code",
   "execution_count": 25,
   "id": "9b049dc5",
   "metadata": {},
   "outputs": [],
   "source": [
    "words=pickle.load(open('words.pkl', 'rb'))"
   ]
  },
  {
   "cell_type": "code",
   "execution_count": 26,
   "id": "0cf8dd66",
   "metadata": {},
   "outputs": [],
   "source": [
    "classes=pickle.load(open('classes.pkl', 'rb'))"
   ]
  },
  {
   "cell_type": "code",
   "execution_count": 27,
   "id": "9abb2f72",
   "metadata": {},
   "outputs": [],
   "source": [
    "def clean_up_sentence(sentence):\n",
    "    #Tokenize \n",
    "    sentence_words = nltk.word_tokenize(sentence)\n",
    "    # stemming each word\n",
    "    sentence_words = [lemmatizer.lemmatize(word.lower()) for word in sentence_words]\n",
    "    return sentence_words"
   ]
  },
  {
   "cell_type": "code",
   "execution_count": 28,
   "id": "ce1f98a3",
   "metadata": {},
   "outputs": [],
   "source": [
    "#Return bow of array: 0 or 1 for each word in the sentence\n",
    "def bow(sentence, words,show_details=True):\n",
    "    #Tokenize the pattern\n",
    "    sentence_words=clean_up_sentence(sentence)\n",
    "    #bow where matrix of N words, vocabulary matrix\n",
    "    bag= [0]*len(words)\n",
    "    for s in sentence_words:\n",
    "        for i,w in enumerate(words):\n",
    "            if w == s:\n",
    "                bag[i]=1\n",
    "                if show_details:\n",
    "                    print('found in bag: %s' %w)\n",
    "    return(np.array(bag))"
   ]
  },
  {
   "cell_type": "code",
   "execution_count": 29,
   "id": "98d40fe3",
   "metadata": {},
   "outputs": [],
   "source": [
    "ERROR_THRESHOLD=0.25\n",
    "def classify(sentence, model):\n",
    "    #filter out predictions below a threshold\n",
    "    p=bow(sentence, words,show_details=False)\n",
    "    res=model.predict(np.array([p]))[0]\n",
    "    results= [[i,r] for i,r in enumerate(res) if r> ERROR_THRESHOLD]\n",
    "    #Sort by strength of probability\n",
    "    results.sort(key=lambda x: x[1], reverse=True)\n",
    "    return_list=[]\n",
    "    \n",
    "    for r in results:\n",
    "        return_list.append({'intent': classes[r[0]], 'probability': str(r[1])})\n",
    "    \n",
    "    #return tuple of intent and probability\n",
    "    return return_list"
   ]
  },
  {
   "cell_type": "code",
   "execution_count": 30,
   "id": "902ee6bb",
   "metadata": {},
   "outputs": [],
   "source": [
    "def get_response(ints, intents_json):\n",
    "    tag = ints[0]['intent']\n",
    "    list_of_intents = intents_json['intents']\n",
    "    for i in list_of_intents:\n",
    "        if(i['tag']== tag):\n",
    "            result = random.choice(i['responses'])\n",
    "            break\n",
    "    return result"
   ]
  },
  {
   "cell_type": "code",
   "execution_count": 31,
   "id": "319a0f3f",
   "metadata": {},
   "outputs": [],
   "source": [
    "def chatbot_response(text):\n",
    "    ints=classify(text, model)\n",
    "    res=get_response(ints, intents)\n",
    "    return res"
   ]
  },
  {
   "cell_type": "code",
   "execution_count": 32,
   "id": "f98594bb",
   "metadata": {},
   "outputs": [],
   "source": [
    "#chatbot_response('is covid-19 airborne')"
   ]
  },
  {
   "cell_type": "code",
   "execution_count": 33,
   "id": "a5a23146",
   "metadata": {},
   "outputs": [],
   "source": [
    "#chatbot_response('can i get coronavirus fro an dog')"
   ]
  },
  {
   "cell_type": "code",
   "execution_count": 34,
   "id": "c5642899",
   "metadata": {},
   "outputs": [],
   "source": [
    "#chatbot_response('what are the symptoms of covid-19')"
   ]
  },
  {
   "cell_type": "code",
   "execution_count": 35,
   "id": "2b802161",
   "metadata": {},
   "outputs": [],
   "source": [
    "#chatbot_response('can my symptoms be worse if i have diabetes')"
   ]
  },
  {
   "cell_type": "code",
   "execution_count": 36,
   "id": "bbcaf070",
   "metadata": {},
   "outputs": [],
   "source": [
    "#chatbot_response('can children get covid-19')"
   ]
  },
  {
   "cell_type": "markdown",
   "id": "cce2c9b0",
   "metadata": {},
   "source": [
    "# Create GUI with tkinter"
   ]
  },
  {
   "cell_type": "code",
   "execution_count": 37,
   "id": "ed2d752b",
   "metadata": {},
   "outputs": [],
   "source": [
    "import tkinter"
   ]
  },
  {
   "cell_type": "code",
   "execution_count": 38,
   "id": "76ac5659",
   "metadata": {},
   "outputs": [],
   "source": [
    "from tkinter import *"
   ]
  },
  {
   "cell_type": "code",
   "execution_count": 39,
   "id": "1d17723d",
   "metadata": {},
   "outputs": [],
   "source": [
    "def send():\n",
    "    msg = EntryBox.get(\"1.0\",'end-1c').strip()\n",
    "    EntryBox.delete(\"0.0\",END)\n",
    "\n",
    "    if msg != '':\n",
    "        ChatLog.config(state=NORMAL)\n",
    "        ChatLog.insert(END, \"You: \" + msg + '\\n\\n')\n",
    "        ChatLog.config(foreground=\"#442265\", font=(\"Verdana\", 12 ))\n",
    "\n",
    "        res = chatbot_response(msg)\n",
    "        ChatLog.insert(END, \"Bot: \" + res + '\\n\\n')\n",
    "\n",
    "        ChatLog.config(state=DISABLED)\n",
    "        ChatLog.yview(END)"
   ]
  },
  {
   "cell_type": "code",
   "execution_count": 40,
   "id": "f07c0475",
   "metadata": {},
   "outputs": [
    {
     "data": {
      "text/plain": [
       "''"
      ]
     },
     "execution_count": 40,
     "metadata": {},
     "output_type": "execute_result"
    }
   ],
   "source": [
    "base = Tk()\n",
    "base.title(\"Covid chatbot\")\n",
    "base.geometry(\"800x600\")\n",
    "base.resizable(width=FALSE, height=FALSE)"
   ]
  },
  {
   "cell_type": "code",
   "execution_count": 41,
   "id": "f7ce3be6",
   "metadata": {},
   "outputs": [],
   "source": [
    "#Create Chat window\n",
    "ChatLog = Text(base, bd=0, bg=\"white\", height=\"8\", width=\"50\", font=\"Arial\",)\n"
   ]
  },
  {
   "cell_type": "code",
   "execution_count": 42,
   "id": "e5f58079",
   "metadata": {},
   "outputs": [],
   "source": [
    "ChatLog.config(state=DISABLED)"
   ]
  },
  {
   "cell_type": "code",
   "execution_count": 43,
   "id": "63ecb7e2",
   "metadata": {},
   "outputs": [],
   "source": [
    "#Bind scrollbar to Chat window\n",
    "scrollbar = Scrollbar(base, command=ChatLog.yview, cursor=\"heart\")\n",
    "ChatLog['yscrollcommand'] = scrollbar.set"
   ]
  },
  {
   "cell_type": "code",
   "execution_count": 44,
   "id": "5ce8f2bc",
   "metadata": {},
   "outputs": [],
   "source": [
    "#Create Button to send message\n",
    "SendButton = Button(base, font=(\"Verdana\",12,'bold'), text=\"Send\", width=\"12\", height=5,\n",
    "                    bd=0, bg=\"#32de97\", activebackground=\"#3c9d9b\",fg='#ffffff',\n",
    "                    command= send )"
   ]
  },
  {
   "cell_type": "code",
   "execution_count": 45,
   "id": "107531f2",
   "metadata": {},
   "outputs": [
    {
     "data": {
      "text/plain": [
       "'139836223111360send'"
      ]
     },
     "execution_count": 45,
     "metadata": {},
     "output_type": "execute_result"
    }
   ],
   "source": [
    "#Create the box to enter message\n",
    "EntryBox = Text(base, bd=0, bg=\"white\",width=\"800\", height=\"500\", font=\"Arial\")\n",
    "EntryBox.bind(\"<Return>\", send)"
   ]
  },
  {
   "cell_type": "code",
   "execution_count": 46,
   "id": "0872b99f",
   "metadata": {},
   "outputs": [],
   "source": [
    "#Place all components on the screen\n",
    "scrollbar.place(x=676,y=6, height=786)\n",
    "ChatLog.place(x=6,y=6, height=386, width=670)\n",
    "EntryBox.place(x=128, y=401, height=300, width=565)\n",
    "SendButton.place(x=6, y=401, height=300)"
   ]
  },
  {
   "cell_type": "code",
   "execution_count": 47,
   "id": "d31d13a9",
   "metadata": {},
   "outputs": [],
   "source": [
    "base.mainloop()"
   ]
  },
  {
   "cell_type": "code",
   "execution_count": null,
   "id": "0198f7da",
   "metadata": {},
   "outputs": [],
   "source": []
  }
 ],
 "metadata": {
  "kernelspec": {
   "display_name": "Python 3",
   "language": "python",
   "name": "python3"
  },
  "language_info": {
   "codemirror_mode": {
    "name": "ipython",
    "version": 3
   },
   "file_extension": ".py",
   "mimetype": "text/x-python",
   "name": "python",
   "nbconvert_exporter": "python",
   "pygments_lexer": "ipython3",
   "version": "3.8.5"
  }
 },
 "nbformat": 4,
 "nbformat_minor": 5
}
